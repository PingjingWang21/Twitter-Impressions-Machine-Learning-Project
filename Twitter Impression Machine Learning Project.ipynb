{
 "cells": [
  {
   "cell_type": "markdown",
   "metadata": {},
   "source": [
    "# Load Data"
   ]
  },
  {
   "cell_type": "code",
   "execution_count": 1,
   "metadata": {},
   "outputs": [],
   "source": [
    "import pandas as pd\n",
    "import numpy as np\n",
    "import seaborn as sns\n",
    "import matplotlib.pyplot as plt\n",
    "import ast"
   ]
  },
  {
   "cell_type": "code",
   "execution_count": 2,
   "metadata": {},
   "outputs": [],
   "source": [
    "# read data\n",
    "df_pre = pd.read_csv('Processed_Post.csv')"
   ]
  },
  {
   "cell_type": "markdown",
   "metadata": {},
   "source": [
    "# Data Processing/Wrangling"
   ]
  },
  {
   "cell_type": "code",
   "execution_count": 3,
   "metadata": {},
   "outputs": [
    {
     "data": {
      "text/html": [
       "<div>\n",
       "<style scoped>\n",
       "    .dataframe tbody tr th:only-of-type {\n",
       "        vertical-align: middle;\n",
       "    }\n",
       "\n",
       "    .dataframe tbody tr th {\n",
       "        vertical-align: top;\n",
       "    }\n",
       "\n",
       "    .dataframe thead th {\n",
       "        text-align: right;\n",
       "    }\n",
       "</style>\n",
       "<table border=\"1\" class=\"dataframe\">\n",
       "  <thead>\n",
       "    <tr style=\"text-align: right;\">\n",
       "      <th></th>\n",
       "      <th>post_date</th>\n",
       "      <th>entity_id</th>\n",
       "      <th>followers</th>\n",
       "      <th>is_picture</th>\n",
       "      <th>is_video</th>\n",
       "      <th>video_duration_secs</th>\n",
       "      <th>impressions</th>\n",
       "      <th>likes</th>\n",
       "      <th>shares</th>\n",
       "      <th>replies</th>\n",
       "      <th>engagement_rate</th>\n",
       "    </tr>\n",
       "  </thead>\n",
       "  <tbody>\n",
       "    <tr>\n",
       "      <th>1</th>\n",
       "      <td>2020-01-02 17:10:31</td>\n",
       "      <td>7AD030340F434EECA5B4FC28034E1113</td>\n",
       "      <td>242458.0</td>\n",
       "      <td>False</td>\n",
       "      <td>False</td>\n",
       "      <td>NotApplicable</td>\n",
       "      <td>36023.36584878</td>\n",
       "      <td>123</td>\n",
       "      <td>3</td>\n",
       "      <td>42</td>\n",
       "      <td>0.000692903513185789</td>\n",
       "    </tr>\n",
       "    <tr>\n",
       "      <th>2</th>\n",
       "      <td>2020-01-02 17:46:20</td>\n",
       "      <td>7AD030340F434EECA5B4FC28034E1113</td>\n",
       "      <td>242458.0</td>\n",
       "      <td>False</td>\n",
       "      <td>False</td>\n",
       "      <td>NotApplicable</td>\n",
       "      <td>23402.6832269543</td>\n",
       "      <td>4</td>\n",
       "      <td>0</td>\n",
       "      <td>0</td>\n",
       "      <td>1.64977026948997e-05</td>\n",
       "    </tr>\n",
       "    <tr>\n",
       "      <th>3</th>\n",
       "      <td>2020-01-02 20:28:16</td>\n",
       "      <td>7AD030340F434EECA5B4FC28034E1113</td>\n",
       "      <td>242458.0</td>\n",
       "      <td>False</td>\n",
       "      <td>False</td>\n",
       "      <td>NotApplicable</td>\n",
       "      <td>26822.6463467185</td>\n",
       "      <td>19</td>\n",
       "      <td>1</td>\n",
       "      <td>0</td>\n",
       "      <td>8.24885134744987e-05</td>\n",
       "    </tr>\n",
       "    <tr>\n",
       "      <th>4</th>\n",
       "      <td>2020-01-02 20:49:44</td>\n",
       "      <td>7AD030340F434EECA5B4FC28034E1113</td>\n",
       "      <td>242458.0</td>\n",
       "      <td>False</td>\n",
       "      <td>False</td>\n",
       "      <td>NotApplicable</td>\n",
       "      <td>23332.3884592917</td>\n",
       "      <td>1</td>\n",
       "      <td>0</td>\n",
       "      <td>1</td>\n",
       "      <td>8.24885134744987e-06</td>\n",
       "    </tr>\n",
       "    <tr>\n",
       "      <th>5</th>\n",
       "      <td>2020-08-25 01:46:07</td>\n",
       "      <td>4AAFEFB838974FDCA41932C4D32FD52A</td>\n",
       "      <td>2063682.0</td>\n",
       "      <td>False</td>\n",
       "      <td>False</td>\n",
       "      <td>NotApplicable</td>\n",
       "      <td>206167.651791252</td>\n",
       "      <td>66</td>\n",
       "      <td>2</td>\n",
       "      <td>1</td>\n",
       "      <td>3.34353839399675e-05</td>\n",
       "    </tr>\n",
       "  </tbody>\n",
       "</table>\n",
       "</div>"
      ],
      "text/plain": [
       "0            post_date                         entity_id  followers  \\\n",
       "1  2020-01-02 17:10:31  7AD030340F434EECA5B4FC28034E1113   242458.0   \n",
       "2  2020-01-02 17:46:20  7AD030340F434EECA5B4FC28034E1113   242458.0   \n",
       "3  2020-01-02 20:28:16  7AD030340F434EECA5B4FC28034E1113   242458.0   \n",
       "4  2020-01-02 20:49:44  7AD030340F434EECA5B4FC28034E1113   242458.0   \n",
       "5  2020-08-25 01:46:07  4AAFEFB838974FDCA41932C4D32FD52A  2063682.0   \n",
       "\n",
       "0 is_picture is_video video_duration_secs       impressions likes shares  \\\n",
       "1      False    False       NotApplicable    36023.36584878   123      3   \n",
       "2      False    False       NotApplicable  23402.6832269543     4      0   \n",
       "3      False    False       NotApplicable  26822.6463467185    19      1   \n",
       "4      False    False       NotApplicable  23332.3884592917     1      0   \n",
       "5      False    False       NotApplicable  206167.651791252    66      2   \n",
       "\n",
       "0 replies       engagement_rate  \n",
       "1      42  0.000692903513185789  \n",
       "2       0  1.64977026948997e-05  \n",
       "3       0  8.24885134744987e-05  \n",
       "4       1  8.24885134744987e-06  \n",
       "5       1  3.34353839399675e-05  "
      ]
     },
     "execution_count": 3,
     "metadata": {},
     "output_type": "execute_result"
    }
   ],
   "source": [
    "# modify data\n",
    "df_pre1 = df_pre[\"Column\"].str.split(\"\\t\", expand = True) #seperate one string column into multiple individual columns\n",
    "new_header = df_pre1.iloc[0] #grab the first row for the header\n",
    "df_pre1 = df_pre1[1:] \n",
    "df_pre1.columns = new_header #set the header row as the df header\n",
    "df = df_pre1.drop([df_pre1.columns[0]], axis='columns') \n",
    "\n",
    "# preview first five rows of data\n",
    "df.head()"
   ]
  },
  {
   "cell_type": "code",
   "execution_count": 4,
   "metadata": {},
   "outputs": [
    {
     "name": "stdout",
     "output_type": "stream",
     "text": [
      "Total # of rows:  6182 \n",
      "Total # of columns:  11\n"
     ]
    }
   ],
   "source": [
    "# total number of rows and columns\n",
    "row, column = df.shape\n",
    "print('Total # of rows: ', row, '\\nTotal # of columns: ', column)"
   ]
  },
  {
   "cell_type": "code",
   "execution_count": 5,
   "metadata": {},
   "outputs": [
    {
     "data": {
      "text/plain": [
       "0\n",
       "post_date              object\n",
       "entity_id              object\n",
       "followers              object\n",
       "is_picture             object\n",
       "is_video               object\n",
       "video_duration_secs    object\n",
       "impressions            object\n",
       "likes                  object\n",
       "shares                 object\n",
       "replies                object\n",
       "engagement_rate        object\n",
       "dtype: object"
      ]
     },
     "execution_count": 5,
     "metadata": {},
     "output_type": "execute_result"
    }
   ],
   "source": [
    "# check data types\n",
    "df.dtypes"
   ]
  },
  {
   "cell_type": "code",
   "execution_count": 6,
   "metadata": {},
   "outputs": [
    {
     "data": {
      "text/plain": [
       "0\n",
       "post_date              datetime64[ns]\n",
       "entity_id                      object\n",
       "followers                     float64\n",
       "is_picture                       bool\n",
       "is_video                         bool\n",
       "video_duration_secs            object\n",
       "impressions                   float64\n",
       "likes                           int64\n",
       "shares                          int64\n",
       "replies                         int64\n",
       "engagement_rate               float64\n",
       "dtype: object"
      ]
     },
     "execution_count": 6,
     "metadata": {},
     "output_type": "execute_result"
    }
   ],
   "source": [
    "# change data type\n",
    "df[['followers', 'impressions', 'impressions', 'likes', 'shares', 'replies', 'engagement_rate']] = df[['followers', 'impressions', 'impressions', 'likes', 'shares', 'replies', 'engagement_rate']].apply(pd.to_numeric) \n",
    "df['post_date'] = df['post_date'].apply(pd.to_datetime)\n",
    "df['is_picture'] = df['is_picture'].map(ast.literal_eval)\n",
    "df['is_video'] = df['is_video'].map(ast.literal_eval)\n",
    "\n",
    "df.dtypes"
   ]
  },
  {
   "cell_type": "code",
   "execution_count": 7,
   "metadata": {},
   "outputs": [
    {
     "data": {
      "text/plain": [
       "0\n",
       "post_date              0\n",
       "entity_id              0\n",
       "followers              1\n",
       "is_picture             0\n",
       "is_video               0\n",
       "video_duration_secs    0\n",
       "impressions            1\n",
       "likes                  0\n",
       "shares                 0\n",
       "replies                0\n",
       "engagement_rate        0\n",
       "dtype: int64"
      ]
     },
     "execution_count": 7,
     "metadata": {},
     "output_type": "execute_result"
    }
   ],
   "source": [
    "# check null values\n",
    "df.isnull().sum()"
   ]
  },
  {
   "cell_type": "code",
   "execution_count": 8,
   "metadata": {},
   "outputs": [
    {
     "data": {
      "text/html": [
       "<div>\n",
       "<style scoped>\n",
       "    .dataframe tbody tr th:only-of-type {\n",
       "        vertical-align: middle;\n",
       "    }\n",
       "\n",
       "    .dataframe tbody tr th {\n",
       "        vertical-align: top;\n",
       "    }\n",
       "\n",
       "    .dataframe thead th {\n",
       "        text-align: right;\n",
       "    }\n",
       "</style>\n",
       "<table border=\"1\" class=\"dataframe\">\n",
       "  <thead>\n",
       "    <tr style=\"text-align: right;\">\n",
       "      <th></th>\n",
       "      <th>post_date</th>\n",
       "      <th>entity_id</th>\n",
       "      <th>followers</th>\n",
       "      <th>is_picture</th>\n",
       "      <th>is_video</th>\n",
       "      <th>video_duration_secs</th>\n",
       "      <th>impressions</th>\n",
       "      <th>likes</th>\n",
       "      <th>shares</th>\n",
       "      <th>replies</th>\n",
       "      <th>engagement_rate</th>\n",
       "    </tr>\n",
       "  </thead>\n",
       "  <tbody>\n",
       "    <tr>\n",
       "      <th>2578</th>\n",
       "      <td>2020-08-08 02:41:47</td>\n",
       "      <td>4AAFEFB838974FDCA41932C4D32FD52A</td>\n",
       "      <td>NaN</td>\n",
       "      <td>False</td>\n",
       "      <td>False</td>\n",
       "      <td>NotApplicable</td>\n",
       "      <td>NaN</td>\n",
       "      <td>0</td>\n",
       "      <td>0</td>\n",
       "      <td>0</td>\n",
       "      <td>0.0</td>\n",
       "    </tr>\n",
       "  </tbody>\n",
       "</table>\n",
       "</div>"
      ],
      "text/plain": [
       "0              post_date                         entity_id  followers  \\\n",
       "2578 2020-08-08 02:41:47  4AAFEFB838974FDCA41932C4D32FD52A        NaN   \n",
       "\n",
       "0     is_picture  is_video video_duration_secs  impressions  likes  shares  \\\n",
       "2578       False     False       NotApplicable          NaN      0       0   \n",
       "\n",
       "0     replies  engagement_rate  \n",
       "2578        0              0.0  "
      ]
     },
     "execution_count": 8,
     "metadata": {},
     "output_type": "execute_result"
    }
   ],
   "source": [
    "# pickout the specific row with null values\n",
    "df[df['followers'].isnull()]"
   ]
  },
  {
   "cell_type": "code",
   "execution_count": 9,
   "metadata": {},
   "outputs": [],
   "source": [
    "# drop missing values\n",
    "df.dropna(axis=0, inplace=True)"
   ]
  },
  {
   "cell_type": "code",
   "execution_count": 10,
   "metadata": {},
   "outputs": [
    {
     "data": {
      "text/html": [
       "<div>\n",
       "<style scoped>\n",
       "    .dataframe tbody tr th:only-of-type {\n",
       "        vertical-align: middle;\n",
       "    }\n",
       "\n",
       "    .dataframe tbody tr th {\n",
       "        vertical-align: top;\n",
       "    }\n",
       "\n",
       "    .dataframe thead th {\n",
       "        text-align: right;\n",
       "    }\n",
       "</style>\n",
       "<table border=\"1\" class=\"dataframe\">\n",
       "  <thead>\n",
       "    <tr style=\"text-align: right;\">\n",
       "      <th></th>\n",
       "      <th>post_date</th>\n",
       "      <th>entity_id</th>\n",
       "      <th>followers</th>\n",
       "      <th>is_picture</th>\n",
       "      <th>is_video</th>\n",
       "      <th>video_duration_secs</th>\n",
       "      <th>impressions</th>\n",
       "      <th>likes</th>\n",
       "      <th>shares</th>\n",
       "      <th>replies</th>\n",
       "      <th>engagement_rate</th>\n",
       "      <th>dummy_pic_no</th>\n",
       "      <th>dummy_pic_yes</th>\n",
       "      <th>dummy_vid_no</th>\n",
       "      <th>dummy_vid_yes</th>\n",
       "    </tr>\n",
       "  </thead>\n",
       "  <tbody>\n",
       "    <tr>\n",
       "      <th>1</th>\n",
       "      <td>2020-01-02 17:10:31</td>\n",
       "      <td>7AD030340F434EECA5B4FC28034E1113</td>\n",
       "      <td>242458.0</td>\n",
       "      <td>False</td>\n",
       "      <td>False</td>\n",
       "      <td>NotApplicable</td>\n",
       "      <td>36023.365849</td>\n",
       "      <td>123</td>\n",
       "      <td>3</td>\n",
       "      <td>42</td>\n",
       "      <td>0.000693</td>\n",
       "      <td>1</td>\n",
       "      <td>0</td>\n",
       "      <td>1</td>\n",
       "      <td>0</td>\n",
       "    </tr>\n",
       "    <tr>\n",
       "      <th>2</th>\n",
       "      <td>2020-01-02 17:46:20</td>\n",
       "      <td>7AD030340F434EECA5B4FC28034E1113</td>\n",
       "      <td>242458.0</td>\n",
       "      <td>False</td>\n",
       "      <td>False</td>\n",
       "      <td>NotApplicable</td>\n",
       "      <td>23402.683227</td>\n",
       "      <td>4</td>\n",
       "      <td>0</td>\n",
       "      <td>0</td>\n",
       "      <td>0.000016</td>\n",
       "      <td>1</td>\n",
       "      <td>0</td>\n",
       "      <td>1</td>\n",
       "      <td>0</td>\n",
       "    </tr>\n",
       "    <tr>\n",
       "      <th>3</th>\n",
       "      <td>2020-01-02 20:28:16</td>\n",
       "      <td>7AD030340F434EECA5B4FC28034E1113</td>\n",
       "      <td>242458.0</td>\n",
       "      <td>False</td>\n",
       "      <td>False</td>\n",
       "      <td>NotApplicable</td>\n",
       "      <td>26822.646347</td>\n",
       "      <td>19</td>\n",
       "      <td>1</td>\n",
       "      <td>0</td>\n",
       "      <td>0.000082</td>\n",
       "      <td>1</td>\n",
       "      <td>0</td>\n",
       "      <td>1</td>\n",
       "      <td>0</td>\n",
       "    </tr>\n",
       "    <tr>\n",
       "      <th>4</th>\n",
       "      <td>2020-01-02 20:49:44</td>\n",
       "      <td>7AD030340F434EECA5B4FC28034E1113</td>\n",
       "      <td>242458.0</td>\n",
       "      <td>False</td>\n",
       "      <td>False</td>\n",
       "      <td>NotApplicable</td>\n",
       "      <td>23332.388459</td>\n",
       "      <td>1</td>\n",
       "      <td>0</td>\n",
       "      <td>1</td>\n",
       "      <td>0.000008</td>\n",
       "      <td>1</td>\n",
       "      <td>0</td>\n",
       "      <td>1</td>\n",
       "      <td>0</td>\n",
       "    </tr>\n",
       "    <tr>\n",
       "      <th>5</th>\n",
       "      <td>2020-08-25 01:46:07</td>\n",
       "      <td>4AAFEFB838974FDCA41932C4D32FD52A</td>\n",
       "      <td>2063682.0</td>\n",
       "      <td>False</td>\n",
       "      <td>False</td>\n",
       "      <td>NotApplicable</td>\n",
       "      <td>206167.651791</td>\n",
       "      <td>66</td>\n",
       "      <td>2</td>\n",
       "      <td>1</td>\n",
       "      <td>0.000033</td>\n",
       "      <td>1</td>\n",
       "      <td>0</td>\n",
       "      <td>1</td>\n",
       "      <td>0</td>\n",
       "    </tr>\n",
       "  </tbody>\n",
       "</table>\n",
       "</div>"
      ],
      "text/plain": [
       "            post_date                         entity_id  followers  \\\n",
       "1 2020-01-02 17:10:31  7AD030340F434EECA5B4FC28034E1113   242458.0   \n",
       "2 2020-01-02 17:46:20  7AD030340F434EECA5B4FC28034E1113   242458.0   \n",
       "3 2020-01-02 20:28:16  7AD030340F434EECA5B4FC28034E1113   242458.0   \n",
       "4 2020-01-02 20:49:44  7AD030340F434EECA5B4FC28034E1113   242458.0   \n",
       "5 2020-08-25 01:46:07  4AAFEFB838974FDCA41932C4D32FD52A  2063682.0   \n",
       "\n",
       "   is_picture  is_video video_duration_secs    impressions  likes  shares  \\\n",
       "1       False     False       NotApplicable   36023.365849    123       3   \n",
       "2       False     False       NotApplicable   23402.683227      4       0   \n",
       "3       False     False       NotApplicable   26822.646347     19       1   \n",
       "4       False     False       NotApplicable   23332.388459      1       0   \n",
       "5       False     False       NotApplicable  206167.651791     66       2   \n",
       "\n",
       "   replies  engagement_rate  dummy_pic_no  dummy_pic_yes  dummy_vid_no  \\\n",
       "1       42         0.000693             1              0             1   \n",
       "2        0         0.000016             1              0             1   \n",
       "3        0         0.000082             1              0             1   \n",
       "4        1         0.000008             1              0             1   \n",
       "5        1         0.000033             1              0             1   \n",
       "\n",
       "   dummy_vid_yes  \n",
       "1              0  \n",
       "2              0  \n",
       "3              0  \n",
       "4              0  \n",
       "5              0  "
      ]
     },
     "execution_count": 10,
     "metadata": {},
     "output_type": "execute_result"
    }
   ],
   "source": [
    "# get dummy variables for 'is_picture' and 'is_video'\n",
    "dummy_pic = pd.get_dummies(df['is_picture'])\n",
    "dummy_pic.columns = ['dummy_pic_no', 'dummy_pic_yes']\n",
    "dummy_vid = pd.get_dummies(df['is_video'])\n",
    "dummy_vid.columns = ['dummy_vid_no', 'dummy_vid_yes']\n",
    "df = pd.concat([df, dummy_pic, dummy_vid], axis=1)\n",
    "\n",
    "df.head()"
   ]
  },
  {
   "cell_type": "code",
   "execution_count": 11,
   "metadata": {},
   "outputs": [
    {
     "data": {
      "text/html": [
       "<div>\n",
       "<style scoped>\n",
       "    .dataframe tbody tr th:only-of-type {\n",
       "        vertical-align: middle;\n",
       "    }\n",
       "\n",
       "    .dataframe tbody tr th {\n",
       "        vertical-align: top;\n",
       "    }\n",
       "\n",
       "    .dataframe thead th {\n",
       "        text-align: right;\n",
       "    }\n",
       "</style>\n",
       "<table border=\"1\" class=\"dataframe\">\n",
       "  <thead>\n",
       "    <tr style=\"text-align: right;\">\n",
       "      <th></th>\n",
       "      <th>post_date</th>\n",
       "      <th>entity_id</th>\n",
       "      <th>followers</th>\n",
       "      <th>is_picture</th>\n",
       "      <th>is_video</th>\n",
       "      <th>video_duration_secs</th>\n",
       "      <th>impressions</th>\n",
       "      <th>likes</th>\n",
       "      <th>shares</th>\n",
       "      <th>replies</th>\n",
       "      <th>engagement_rate</th>\n",
       "      <th>dummy_pic_no</th>\n",
       "      <th>dummy_pic_yes</th>\n",
       "      <th>dummy_vid_no</th>\n",
       "      <th>dummy_vid_yes</th>\n",
       "      <th>month</th>\n",
       "      <th>day</th>\n",
       "      <th>hour</th>\n",
       "    </tr>\n",
       "  </thead>\n",
       "  <tbody>\n",
       "    <tr>\n",
       "      <th>1</th>\n",
       "      <td>2020-01-02 17:10:31</td>\n",
       "      <td>7AD030340F434EECA5B4FC28034E1113</td>\n",
       "      <td>242458.0</td>\n",
       "      <td>False</td>\n",
       "      <td>False</td>\n",
       "      <td>NotApplicable</td>\n",
       "      <td>36023.365849</td>\n",
       "      <td>123</td>\n",
       "      <td>3</td>\n",
       "      <td>42</td>\n",
       "      <td>0.000693</td>\n",
       "      <td>1</td>\n",
       "      <td>0</td>\n",
       "      <td>1</td>\n",
       "      <td>0</td>\n",
       "      <td>1</td>\n",
       "      <td>2</td>\n",
       "      <td>17</td>\n",
       "    </tr>\n",
       "    <tr>\n",
       "      <th>2</th>\n",
       "      <td>2020-01-02 17:46:20</td>\n",
       "      <td>7AD030340F434EECA5B4FC28034E1113</td>\n",
       "      <td>242458.0</td>\n",
       "      <td>False</td>\n",
       "      <td>False</td>\n",
       "      <td>NotApplicable</td>\n",
       "      <td>23402.683227</td>\n",
       "      <td>4</td>\n",
       "      <td>0</td>\n",
       "      <td>0</td>\n",
       "      <td>0.000016</td>\n",
       "      <td>1</td>\n",
       "      <td>0</td>\n",
       "      <td>1</td>\n",
       "      <td>0</td>\n",
       "      <td>1</td>\n",
       "      <td>2</td>\n",
       "      <td>17</td>\n",
       "    </tr>\n",
       "    <tr>\n",
       "      <th>3</th>\n",
       "      <td>2020-01-02 20:28:16</td>\n",
       "      <td>7AD030340F434EECA5B4FC28034E1113</td>\n",
       "      <td>242458.0</td>\n",
       "      <td>False</td>\n",
       "      <td>False</td>\n",
       "      <td>NotApplicable</td>\n",
       "      <td>26822.646347</td>\n",
       "      <td>19</td>\n",
       "      <td>1</td>\n",
       "      <td>0</td>\n",
       "      <td>0.000082</td>\n",
       "      <td>1</td>\n",
       "      <td>0</td>\n",
       "      <td>1</td>\n",
       "      <td>0</td>\n",
       "      <td>1</td>\n",
       "      <td>2</td>\n",
       "      <td>20</td>\n",
       "    </tr>\n",
       "    <tr>\n",
       "      <th>4</th>\n",
       "      <td>2020-01-02 20:49:44</td>\n",
       "      <td>7AD030340F434EECA5B4FC28034E1113</td>\n",
       "      <td>242458.0</td>\n",
       "      <td>False</td>\n",
       "      <td>False</td>\n",
       "      <td>NotApplicable</td>\n",
       "      <td>23332.388459</td>\n",
       "      <td>1</td>\n",
       "      <td>0</td>\n",
       "      <td>1</td>\n",
       "      <td>0.000008</td>\n",
       "      <td>1</td>\n",
       "      <td>0</td>\n",
       "      <td>1</td>\n",
       "      <td>0</td>\n",
       "      <td>1</td>\n",
       "      <td>2</td>\n",
       "      <td>20</td>\n",
       "    </tr>\n",
       "    <tr>\n",
       "      <th>5</th>\n",
       "      <td>2020-08-25 01:46:07</td>\n",
       "      <td>4AAFEFB838974FDCA41932C4D32FD52A</td>\n",
       "      <td>2063682.0</td>\n",
       "      <td>False</td>\n",
       "      <td>False</td>\n",
       "      <td>NotApplicable</td>\n",
       "      <td>206167.651791</td>\n",
       "      <td>66</td>\n",
       "      <td>2</td>\n",
       "      <td>1</td>\n",
       "      <td>0.000033</td>\n",
       "      <td>1</td>\n",
       "      <td>0</td>\n",
       "      <td>1</td>\n",
       "      <td>0</td>\n",
       "      <td>8</td>\n",
       "      <td>25</td>\n",
       "      <td>1</td>\n",
       "    </tr>\n",
       "  </tbody>\n",
       "</table>\n",
       "</div>"
      ],
      "text/plain": [
       "            post_date                         entity_id  followers  \\\n",
       "1 2020-01-02 17:10:31  7AD030340F434EECA5B4FC28034E1113   242458.0   \n",
       "2 2020-01-02 17:46:20  7AD030340F434EECA5B4FC28034E1113   242458.0   \n",
       "3 2020-01-02 20:28:16  7AD030340F434EECA5B4FC28034E1113   242458.0   \n",
       "4 2020-01-02 20:49:44  7AD030340F434EECA5B4FC28034E1113   242458.0   \n",
       "5 2020-08-25 01:46:07  4AAFEFB838974FDCA41932C4D32FD52A  2063682.0   \n",
       "\n",
       "   is_picture  is_video video_duration_secs    impressions  likes  shares  \\\n",
       "1       False     False       NotApplicable   36023.365849    123       3   \n",
       "2       False     False       NotApplicable   23402.683227      4       0   \n",
       "3       False     False       NotApplicable   26822.646347     19       1   \n",
       "4       False     False       NotApplicable   23332.388459      1       0   \n",
       "5       False     False       NotApplicable  206167.651791     66       2   \n",
       "\n",
       "   replies  engagement_rate  dummy_pic_no  dummy_pic_yes  dummy_vid_no  \\\n",
       "1       42         0.000693             1              0             1   \n",
       "2        0         0.000016             1              0             1   \n",
       "3        0         0.000082             1              0             1   \n",
       "4        1         0.000008             1              0             1   \n",
       "5        1         0.000033             1              0             1   \n",
       "\n",
       "   dummy_vid_yes  month  day  hour  \n",
       "1              0      1    2    17  \n",
       "2              0      1    2    17  \n",
       "3              0      1    2    20  \n",
       "4              0      1    2    20  \n",
       "5              0      8   25     1  "
      ]
     },
     "execution_count": 11,
     "metadata": {},
     "output_type": "execute_result"
    }
   ],
   "source": [
    "# Get 'post_date' related features\n",
    "df['month'] = df['post_date'].dt.month\n",
    "df['day'] = df['post_date'].dt.day\n",
    "df['hour'] = df['post_date'].dt.hour\n",
    "\n",
    "df.head()"
   ]
  },
  {
   "cell_type": "code",
   "execution_count": 12,
   "metadata": {},
   "outputs": [],
   "source": [
    "# replace 'NotApplicable' with 0 under 'video_duration_secs' column\n",
    "df['video_duration_secs'] = df['video_duration_secs'].replace(['NotApplicable'], 0)\n",
    "df['video_duration_secs'] = df['video_duration_secs'].apply(pd.to_numeric)"
   ]
  },
  {
   "cell_type": "markdown",
   "metadata": {},
   "source": [
    "# Exploratory Data Analysis"
   ]
  },
  {
   "cell_type": "code",
   "execution_count": 13,
   "metadata": {},
   "outputs": [
    {
     "data": {
      "text/html": [
       "<div>\n",
       "<style scoped>\n",
       "    .dataframe tbody tr th:only-of-type {\n",
       "        vertical-align: middle;\n",
       "    }\n",
       "\n",
       "    .dataframe tbody tr th {\n",
       "        vertical-align: top;\n",
       "    }\n",
       "\n",
       "    .dataframe thead th {\n",
       "        text-align: right;\n",
       "    }\n",
       "</style>\n",
       "<table border=\"1\" class=\"dataframe\">\n",
       "  <thead>\n",
       "    <tr style=\"text-align: right;\">\n",
       "      <th></th>\n",
       "      <th>followers</th>\n",
       "      <th>video_duration_secs</th>\n",
       "      <th>impressions</th>\n",
       "      <th>likes</th>\n",
       "      <th>shares</th>\n",
       "      <th>replies</th>\n",
       "      <th>engagement_rate</th>\n",
       "      <th>dummy_pic_no</th>\n",
       "      <th>dummy_pic_yes</th>\n",
       "      <th>dummy_vid_no</th>\n",
       "      <th>dummy_vid_yes</th>\n",
       "      <th>month</th>\n",
       "      <th>day</th>\n",
       "      <th>hour</th>\n",
       "    </tr>\n",
       "  </thead>\n",
       "  <tbody>\n",
       "    <tr>\n",
       "      <th>1</th>\n",
       "      <td>242458.0</td>\n",
       "      <td>0.0</td>\n",
       "      <td>36023.365849</td>\n",
       "      <td>123</td>\n",
       "      <td>3</td>\n",
       "      <td>42</td>\n",
       "      <td>0.000693</td>\n",
       "      <td>1</td>\n",
       "      <td>0</td>\n",
       "      <td>1</td>\n",
       "      <td>0</td>\n",
       "      <td>1</td>\n",
       "      <td>2</td>\n",
       "      <td>17</td>\n",
       "    </tr>\n",
       "    <tr>\n",
       "      <th>2</th>\n",
       "      <td>242458.0</td>\n",
       "      <td>0.0</td>\n",
       "      <td>23402.683227</td>\n",
       "      <td>4</td>\n",
       "      <td>0</td>\n",
       "      <td>0</td>\n",
       "      <td>0.000016</td>\n",
       "      <td>1</td>\n",
       "      <td>0</td>\n",
       "      <td>1</td>\n",
       "      <td>0</td>\n",
       "      <td>1</td>\n",
       "      <td>2</td>\n",
       "      <td>17</td>\n",
       "    </tr>\n",
       "    <tr>\n",
       "      <th>3</th>\n",
       "      <td>242458.0</td>\n",
       "      <td>0.0</td>\n",
       "      <td>26822.646347</td>\n",
       "      <td>19</td>\n",
       "      <td>1</td>\n",
       "      <td>0</td>\n",
       "      <td>0.000082</td>\n",
       "      <td>1</td>\n",
       "      <td>0</td>\n",
       "      <td>1</td>\n",
       "      <td>0</td>\n",
       "      <td>1</td>\n",
       "      <td>2</td>\n",
       "      <td>20</td>\n",
       "    </tr>\n",
       "    <tr>\n",
       "      <th>4</th>\n",
       "      <td>242458.0</td>\n",
       "      <td>0.0</td>\n",
       "      <td>23332.388459</td>\n",
       "      <td>1</td>\n",
       "      <td>0</td>\n",
       "      <td>1</td>\n",
       "      <td>0.000008</td>\n",
       "      <td>1</td>\n",
       "      <td>0</td>\n",
       "      <td>1</td>\n",
       "      <td>0</td>\n",
       "      <td>1</td>\n",
       "      <td>2</td>\n",
       "      <td>20</td>\n",
       "    </tr>\n",
       "    <tr>\n",
       "      <th>5</th>\n",
       "      <td>2063682.0</td>\n",
       "      <td>0.0</td>\n",
       "      <td>206167.651791</td>\n",
       "      <td>66</td>\n",
       "      <td>2</td>\n",
       "      <td>1</td>\n",
       "      <td>0.000033</td>\n",
       "      <td>1</td>\n",
       "      <td>0</td>\n",
       "      <td>1</td>\n",
       "      <td>0</td>\n",
       "      <td>8</td>\n",
       "      <td>25</td>\n",
       "      <td>1</td>\n",
       "    </tr>\n",
       "  </tbody>\n",
       "</table>\n",
       "</div>"
      ],
      "text/plain": [
       "   followers  video_duration_secs    impressions  likes  shares  replies  \\\n",
       "1   242458.0                  0.0   36023.365849    123       3       42   \n",
       "2   242458.0                  0.0   23402.683227      4       0        0   \n",
       "3   242458.0                  0.0   26822.646347     19       1        0   \n",
       "4   242458.0                  0.0   23332.388459      1       0        1   \n",
       "5  2063682.0                  0.0  206167.651791     66       2        1   \n",
       "\n",
       "   engagement_rate  dummy_pic_no  dummy_pic_yes  dummy_vid_no  dummy_vid_yes  \\\n",
       "1         0.000693             1              0             1              0   \n",
       "2         0.000016             1              0             1              0   \n",
       "3         0.000082             1              0             1              0   \n",
       "4         0.000008             1              0             1              0   \n",
       "5         0.000033             1              0             1              0   \n",
       "\n",
       "   month  day  hour  \n",
       "1      1    2    17  \n",
       "2      1    2    17  \n",
       "3      1    2    20  \n",
       "4      1    2    20  \n",
       "5      8   25     1  "
      ]
     },
     "execution_count": 13,
     "metadata": {},
     "output_type": "execute_result"
    }
   ],
   "source": [
    "# Select just the numeric columns and create a new dataframe\n",
    "df_new = df.select_dtypes(include=np.number)\n",
    "df_new.head()"
   ]
  },
  {
   "cell_type": "code",
   "execution_count": 14,
   "metadata": {},
   "outputs": [
    {
     "data": {
      "text/plain": [
       "followers              0\n",
       "video_duration_secs    0\n",
       "impressions            0\n",
       "likes                  0\n",
       "shares                 0\n",
       "replies                0\n",
       "engagement_rate        0\n",
       "dummy_pic_no           0\n",
       "dummy_pic_yes          0\n",
       "dummy_vid_no           0\n",
       "dummy_vid_yes          0\n",
       "month                  0\n",
       "day                    0\n",
       "hour                   0\n",
       "dtype: int64"
      ]
     },
     "execution_count": 14,
     "metadata": {},
     "output_type": "execute_result"
    }
   ],
   "source": [
    "df_new.isnull().sum()"
   ]
  },
  {
   "cell_type": "code",
   "execution_count": 15,
   "metadata": {},
   "outputs": [
    {
     "data": {
      "text/plain": [
       "<matplotlib.axes._subplots.AxesSubplot at 0x7fc4881abaf0>"
      ]
     },
     "execution_count": 15,
     "metadata": {},
     "output_type": "execute_result"
    },
    {
     "data": {
      "image/png": "[encoded data removed]",
      "text/plain": [
       "<Figure size 432x288 with 2 Axes>"
      ]
     },
     "metadata": {
      "needs_background": "light"
     },
     "output_type": "display_data"
    }
   ],
   "source": [
    "# show correlation\n",
    "sns.heatmap(df_new.corr(), annot = True, fmt='.1g', vmin=-1, vmax=1, center= 0, cmap= 'coolwarm')"
   ]
  },
  {
   "cell_type": "markdown",
   "metadata": {},
   "source": [
    "# Model Development"
   ]
  },
  {
   "cell_type": "code",
   "execution_count": 16,
   "metadata": {},
   "outputs": [],
   "source": [
    "# define the predictor and target variable\n",
    "x = df_new[df_new.columns.difference(['impressions'])]\n",
    "y = df_new[['impressions']]\n",
    "\n",
    "# split the train and test dataset\n",
    "from sklearn.model_selection import train_test_split\n",
    "\n",
    "x_train, x_test, y_train, y_test = train_test_split(x, y, test_size=0.3, random_state=0)"
   ]
  },
  {
   "cell_type": "code",
   "execution_count": 17,
   "metadata": {},
   "outputs": [],
   "source": [
    "# multiple linear regression\n",
    "from sklearn.linear_model import LinearRegression\n",
    "\n",
    "lm = LinearRegression() # create a linear regression object using the constructor\n",
    "lm.fit(x_train, y_train)\n",
    "y_hat_lm = lm.predict(x_test)"
   ]
  },
  {
   "cell_type": "code",
   "execution_count": 18,
   "metadata": {},
   "outputs": [
    {
     "data": {
      "text/plain": [
       "0.9165044405206539"
      ]
     },
     "execution_count": 18,
     "metadata": {},
     "output_type": "execute_result"
    }
   ],
   "source": [
    "# evaluate MLR model\n",
    "lm.score(x_test, y_test) # 91.65% of variation of the target variable 'impression' that is explained by MLR"
   ]
  },
  {
   "cell_type": "code",
   "execution_count": 19,
   "metadata": {},
   "outputs": [
    {
     "data": {
      "image/png": "[encoded data removed]",
      "text/plain": [
       "<Figure size 432x288 with 1 Axes>"
      ]
     },
     "metadata": {
      "needs_background": "light"
     },
     "output_type": "display_data"
    }
   ],
   "source": [
    "# distribution plot\n",
    "sns.distplot(y_hat_lm, hist = False, color = 'r', label = 'Predicted Values')\n",
    "sns.distplot(y_test, hist = False, color = 'b', label = 'Actual Values')\n",
    "plt.title('Actual vs Predicted Values', fontsize = 16)\n",
    "plt.xlabel('Values', fontsize = 12)\n",
    "plt.ylabel('Frequency', fontsize = 12)\n",
    "\n",
    "plt.savefig('ap.png')"
   ]
  },
  {
   "cell_type": "code",
   "execution_count": 20,
   "metadata": {},
   "outputs": [
    {
     "name": "stderr",
     "output_type": "stream",
     "text": [
      "/Users/Cecilia/opt/anaconda3/lib/python3.8/site-packages/sklearn/linear_model/_ridge.py:147: LinAlgWarning: Ill-conditioned matrix (rcond=1.93322e-18): result may not be accurate.\n",
      "  return linalg.solve(A, Xy, sym_pos=True,\n"
     ]
    },
    {
     "data": {
      "text/plain": [
       "0.9153491755198633"
      ]
     },
     "execution_count": 20,
     "metadata": {},
     "output_type": "execute_result"
    }
   ],
   "source": [
    "# ridge regression\n",
    "from sklearn.linear_model import Ridge\n",
    "from sklearn.metrics import r2_score\n",
    "\n",
    "rr = Ridge(alpha=0.01)\n",
    "rr.fit(x_train, y_train) \n",
    "\n",
    "y_hat_rr = rr.predict(x_test) \n",
    "r2_score(y_test, y_hat_rr) # 91.53% of variation of the target variable 'impression' that is explained by MLR"
   ]
  },
  {
   "cell_type": "code",
   "execution_count": 21,
   "metadata": {},
   "outputs": [
    {
     "data": {
      "text/plain": [
       "0.916489165377095"
      ]
     },
     "execution_count": 21,
     "metadata": {},
     "output_type": "execute_result"
    }
   ],
   "source": [
    "# lasso regression\n",
    "from sklearn.linear_model import Lasso\n",
    "lr = Lasso(alpha=0.01)\n",
    "lr.fit(x_train, y_train) \n",
    "\n",
    "y_hat_lr = lr.predict(x_test) \n",
    "r2_score(y_test, y_hat_lr) # 91.65% of variation of the target variable 'impression' that is explained by MLR"
   ]
  }
 ],
 "metadata": {
  "kernelspec": {
   "display_name": "Python 3",
   "language": "python",
   "name": "python3"
  },
  "language_info": {
   "codemirror_mode": {
    "name": "ipython",
    "version": 3
   },
   "file_extension": ".py",
   "mimetype": "text/x-python",
   "name": "python",
   "nbconvert_exporter": "python",
   "pygments_lexer": "ipython3",
   "version": "3.8.3"
  }
 },
 "nbformat": 4,
 "nbformat_minor": 4
}
